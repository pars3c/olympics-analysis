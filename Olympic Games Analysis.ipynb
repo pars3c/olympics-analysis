{
 "cells": [
  {
   "cell_type": "code",
   "execution_count": 1,
   "metadata": {},
   "outputs": [
    {
     "data": {
      "text/html": [
       "<style>ul.unstyled, ul.unstyled ul, ul.unstyled li {  list-style-type: none;  font-size: 20px;  font-weight: 600;}</style><h1>Olympic Games Analysis</h1><img src=\"img/olympics-animation.jpg\"><ul class=\"unstyled\"><li><a href=\"#introduction\">Introduction</a></li><li><a href=\"#requirements\">Requirements</a></li><li><a href=\"#data_cleaning\">Data Cleaning</a></li><li><a href=\"#male_analysis\">Male Analysis</a></li><ul><li><a href=\"#winning_male_density_physique\">Age</a></li><li><a href=\"#age_male\">Winning Density based on physique</a></li><li><a href=\"#physique_male\">Physique</a></li></ul><li><a href=\"#female_analysis\">Female Analysis</a></li><ul><li><a href=\"#physique_female\">Age</a></li><li><a href=\"#age_female\">Winning Density based on physique</a></li><li><a href=\"#winning_female_density_physique\">Physique</a></li></ul><li><a href=\"#gender_gap\">Gender Gap</a></li></ul>"
      ],
      "text/plain": [
       "<IPython.core.display.HTML object>"
      ]
     },
     "metadata": {},
     "output_type": "display_data"
    }
   ],
   "source": [
    "from IPython.display import display\n",
    "from vdom.helpers import h1, p, img, div, b, li, ul, h2, h3, h4, h5, a\n",
    "from IPython.display import display, HTML\n",
    "\n",
    "with open (\"custom.css\", \"r\") as myfile:\n",
    "    custom_css = myfile.read().replace('\\n', '')\n",
    "\n",
    "title = '<h1>Olympic Games Analysis</h1>'\n",
    "indexes = ({1: {'name': {'Introduction'}},\n",
    "            2: {'name': {'Requirements'}},\n",
    "            3: {'name': {'Data Cleaning'}},\n",
    "            4: {'name': {'Male Analysis'}},\n",
    "            5: {'name': {'Physique', 'Age', 'Winning Density based on physique'}},\n",
    "            6: {'name': {'Female Analysis'}},\n",
    "            7: {'name': {'Physique', 'Age', 'Winning Density based on physique'}},\n",
    "            8: {'name': {'Gender Gap'}},\n",
    "            9: {'name': {'Geographic Analysis'}},\n",
    "            })\n",
    "          \n",
    "links =   ({1: {'link': {'#introduction'}},\n",
    "            2: {'link': {'#requirements'}},\n",
    "            3: {'link': {'#data_cleaning'}},\n",
    "            4: {'link': {'#male_analysis'}},\n",
    "            5: {'link': {'#physique_male', '#age_male', '#winning_male_density_physique'}},\n",
    "            6: {'link': {'#female_analysis'}},\n",
    "            7: {'link': {'#physique_female', '#age_female', '#winning_female_density_physique'}},\n",
    "            8: {'link': {'#gender_gap'}},\n",
    "            9: {'link': {'#geographic_analysis'}},\n",
    "            })\n",
    "\n",
    "\n",
    "def listIndex(indexes):\n",
    "    html = custom_css\n",
    "    html += title\n",
    "    html += '<img src=\"img/olympics-animation.jpg\">'\n",
    "    html += '<ul class=\"unstyled\">'\n",
    "    \n",
    "    for x in range(1, 9):\n",
    "        try:\n",
    "        \n",
    "            index_len = len(indexes[x]['name'])\n",
    "            if index_len > 1:\n",
    "                html += '<ul>'\n",
    "                pass\n",
    "            for i, j in zip(indexes[x]['name'], links[x]['link']):\n",
    "                html += '<li><a href=\"' + j + '\">' + i + '</a></li>'\n",
    "            if index_len > 1:\n",
    "                html += '</ul>'\n",
    "                pass\n",
    "        except Exception:\n",
    "            break\n",
    "    html += '</ul>'\n",
    "    \n",
    "    return html\n",
    "\n",
    "display(HTML(listIndex(indexes)))"
   ]
  },
  {
   "cell_type": "markdown",
   "metadata": {},
   "source": [
    "<h1> Requirements </h1>"
   ]
  },
  {
   "cell_type": "code",
   "execution_count": 2,
   "metadata": {},
   "outputs": [],
   "source": [
    "import pandas as pd\n",
    "import numpy as np\n",
    "import matplotlib.pyplot as plt\n",
    "import seaborn as sns"
   ]
  },
  {
   "cell_type": "code",
   "execution_count": 49,
   "metadata": {},
   "outputs": [],
   "source": [
    "\n",
    "# Cumulative distribution function\n",
    "def ecdf(data):\n",
    "    \"\"\"Compute ECDF for a one-dimensional array of measurements.\"\"\"\n",
    "    # Number of data points: n\n",
    "    n = len(data)\n",
    "    # x-data for the ECDF: x\n",
    "    x = np.sort(data)\n",
    "\n",
    "    # y-data for the ECDF: y\n",
    "    y = np.arange(1, n+1) / n\n",
    "    print(y)\n",
    "    return x, y\n",
    "\n",
    "# Calculate min and max of the data\n",
    "def minmax(data):\n",
    "    min_val = min(data)\n",
    "    max_val = max(data)\n",
    "\n",
    "    return (min_val, max_val)\n",
    "\n",
    "# Calculate Variance and Standart Deviation\n",
    "\n",
    "def varstd(data):\n",
    "    variance = np.var(data)\n",
    "    standart_dev = np.std(data)\n",
    "    return (variance, standart_dev)"
   ]
  },
  {
   "cell_type": "code",
   "execution_count": 50,
   "metadata": {},
   "outputs": [
    {
     "name": "stdout",
     "output_type": "stream",
     "text": [
      "['datasets\\\\athlete_events.csv', 'datasets\\\\noc_regions.csv']\n"
     ]
    },
    {
     "data": {
      "text/html": [
       "<div>\n",
       "<style scoped>\n",
       "    .dataframe tbody tr th:only-of-type {\n",
       "        vertical-align: middle;\n",
       "    }\n",
       "\n",
       "    .dataframe tbody tr th {\n",
       "        vertical-align: top;\n",
       "    }\n",
       "\n",
       "    .dataframe thead th {\n",
       "        text-align: right;\n",
       "    }\n",
       "</style>\n",
       "<table border=\"1\" class=\"dataframe\">\n",
       "  <thead>\n",
       "    <tr style=\"text-align: right;\">\n",
       "      <th></th>\n",
       "      <th>ID</th>\n",
       "      <th>Name</th>\n",
       "      <th>Sex</th>\n",
       "      <th>Age</th>\n",
       "      <th>Height</th>\n",
       "      <th>Weight</th>\n",
       "      <th>Team</th>\n",
       "      <th>NOC</th>\n",
       "      <th>Games</th>\n",
       "      <th>Year</th>\n",
       "      <th>Season</th>\n",
       "      <th>City</th>\n",
       "      <th>Sport</th>\n",
       "      <th>Event</th>\n",
       "      <th>Medal</th>\n",
       "    </tr>\n",
       "  </thead>\n",
       "  <tbody>\n",
       "    <tr>\n",
       "      <th>73963</th>\n",
       "      <td>37584</td>\n",
       "      <td>Tadashi Fukushima</td>\n",
       "      <td>M</td>\n",
       "      <td>28.0</td>\n",
       "      <td>160.0</td>\n",
       "      <td>54.0</td>\n",
       "      <td>Japan</td>\n",
       "      <td>JPN</td>\n",
       "      <td>1972 Summer</td>\n",
       "      <td>1972</td>\n",
       "      <td>Summer</td>\n",
       "      <td>Munich</td>\n",
       "      <td>Equestrianism</td>\n",
       "      <td>Equestrianism Mixed Jumping, Team</td>\n",
       "      <td>NaN</td>\n",
       "    </tr>\n",
       "    <tr>\n",
       "      <th>91106</th>\n",
       "      <td>46176</td>\n",
       "      <td>Martin Clifford Harris</td>\n",
       "      <td>M</td>\n",
       "      <td>23.0</td>\n",
       "      <td>201.0</td>\n",
       "      <td>92.0</td>\n",
       "      <td>Great Britain</td>\n",
       "      <td>GBR</td>\n",
       "      <td>1992 Summer</td>\n",
       "      <td>1992</td>\n",
       "      <td>Summer</td>\n",
       "      <td>Barcelona</td>\n",
       "      <td>Swimming</td>\n",
       "      <td>Swimming Men's 100 metres Backstroke</td>\n",
       "      <td>NaN</td>\n",
       "    </tr>\n",
       "    <tr>\n",
       "      <th>125271</th>\n",
       "      <td>63214</td>\n",
       "      <td>Olga Ivanovna Kotlyarova</td>\n",
       "      <td>F</td>\n",
       "      <td>20.0</td>\n",
       "      <td>180.0</td>\n",
       "      <td>66.0</td>\n",
       "      <td>Russia</td>\n",
       "      <td>RUS</td>\n",
       "      <td>1996 Summer</td>\n",
       "      <td>1996</td>\n",
       "      <td>Summer</td>\n",
       "      <td>Atlanta</td>\n",
       "      <td>Athletics</td>\n",
       "      <td>Athletics Women's 4 x 400 metres Relay</td>\n",
       "      <td>NaN</td>\n",
       "    </tr>\n",
       "    <tr>\n",
       "      <th>214686</th>\n",
       "      <td>107787</td>\n",
       "      <td>Eltjo Marinus Jan Schutter</td>\n",
       "      <td>M</td>\n",
       "      <td>23.0</td>\n",
       "      <td>191.0</td>\n",
       "      <td>78.0</td>\n",
       "      <td>Netherlands</td>\n",
       "      <td>NED</td>\n",
       "      <td>1976 Summer</td>\n",
       "      <td>1976</td>\n",
       "      <td>Summer</td>\n",
       "      <td>Montreal</td>\n",
       "      <td>Athletics</td>\n",
       "      <td>Athletics Men's Decathlon</td>\n",
       "      <td>NaN</td>\n",
       "    </tr>\n",
       "    <tr>\n",
       "      <th>168561</th>\n",
       "      <td>84715</td>\n",
       "      <td>Andris Naudus</td>\n",
       "      <td>M</td>\n",
       "      <td>25.0</td>\n",
       "      <td>183.0</td>\n",
       "      <td>78.0</td>\n",
       "      <td>Latvia</td>\n",
       "      <td>LAT</td>\n",
       "      <td>2000 Summer</td>\n",
       "      <td>2000</td>\n",
       "      <td>Summer</td>\n",
       "      <td>Sydney</td>\n",
       "      <td>Cycling</td>\n",
       "      <td>Cycling Men's Road Race, Individual</td>\n",
       "      <td>NaN</td>\n",
       "    </tr>\n",
       "  </tbody>\n",
       "</table>\n",
       "</div>"
      ],
      "text/plain": [
       "            ID                        Name Sex   Age  Height  Weight  \\\n",
       "73963    37584           Tadashi Fukushima   M  28.0   160.0    54.0   \n",
       "91106    46176      Martin Clifford Harris   M  23.0   201.0    92.0   \n",
       "125271   63214    Olga Ivanovna Kotlyarova   F  20.0   180.0    66.0   \n",
       "214686  107787  Eltjo Marinus Jan Schutter   M  23.0   191.0    78.0   \n",
       "168561   84715               Andris Naudus   M  25.0   183.0    78.0   \n",
       "\n",
       "                 Team  NOC        Games  Year  Season       City  \\\n",
       "73963           Japan  JPN  1972 Summer  1972  Summer     Munich   \n",
       "91106   Great Britain  GBR  1992 Summer  1992  Summer  Barcelona   \n",
       "125271         Russia  RUS  1996 Summer  1996  Summer    Atlanta   \n",
       "214686    Netherlands  NED  1976 Summer  1976  Summer   Montreal   \n",
       "168561         Latvia  LAT  2000 Summer  2000  Summer     Sydney   \n",
       "\n",
       "                Sport                                   Event Medal  \n",
       "73963   Equestrianism       Equestrianism Mixed Jumping, Team   NaN  \n",
       "91106        Swimming    Swimming Men's 100 metres Backstroke   NaN  \n",
       "125271      Athletics  Athletics Women's 4 x 400 metres Relay   NaN  \n",
       "214686      Athletics               Athletics Men's Decathlon   NaN  \n",
       "168561        Cycling     Cycling Men's Road Race, Individual   NaN  "
      ]
     },
     "execution_count": 50,
     "metadata": {},
     "output_type": "execute_result"
    }
   ],
   "source": [
    "import glob\n",
    "csv_files = glob.glob('datasets/*.csv')\n",
    "dataset = pd.read_csv(csv_files[0])\n",
    "\n",
    "print(csv_files)\n",
    "dataset.sample(5)"
   ]
  },
  {
   "cell_type": "code",
   "execution_count": 51,
   "metadata": {},
   "outputs": [
    {
     "name": "stdout",
     "output_type": "stream",
     "text": [
      "<class 'pandas.core.frame.DataFrame'>\n",
      "RangeIndex: 271116 entries, 0 to 271115\n",
      "Data columns (total 15 columns):\n",
      "id        271116 non-null int64\n",
      "name      271116 non-null object\n",
      "sex       271116 non-null object\n",
      "age       261642 non-null float64\n",
      "height    210945 non-null float64\n",
      "weight    208241 non-null float64\n",
      "team      271116 non-null object\n",
      "noc       271116 non-null object\n",
      "games     271116 non-null object\n",
      "year      271116 non-null int64\n",
      "season    271116 non-null object\n",
      "city      271116 non-null object\n",
      "sport     271116 non-null object\n",
      "event     271116 non-null object\n",
      "medal     39783 non-null object\n",
      "dtypes: float64(3), int64(2), object(10)\n",
      "memory usage: 31.0+ MB\n",
      "None\n",
      "Index(['id', 'name', 'sex', 'age', 'height', 'weight', 'team', 'noc', 'games',\n",
      "       'year', 'season', 'city', 'sport', 'event', 'medal'],\n",
      "      dtype='object')\n"
     ]
    }
   ],
   "source": [
    "dataset.columns = dataset.columns.str.lower()\n",
    "print(dataset.info())\n",
    "print(dataset.columns)"
   ]
  },
  {
   "cell_type": "code",
   "execution_count": 52,
   "metadata": {},
   "outputs": [
    {
     "name": "stdout",
     "output_type": "stream",
     "text": [
      "<class 'pandas.core.frame.DataFrame'>\n",
      "Int64Index: 269731 entries, 0 to 271115\n",
      "Data columns (total 15 columns):\n",
      "id        269731 non-null int64\n",
      "name      269731 non-null object\n",
      "sex       269731 non-null category\n",
      "age       260416 non-null float64\n",
      "height    210917 non-null float64\n",
      "weight    208204 non-null float64\n",
      "team      269731 non-null category\n",
      "noc       269731 non-null category\n",
      "games     269731 non-null object\n",
      "year      269731 non-null int64\n",
      "season    269731 non-null object\n",
      "city      269731 non-null object\n",
      "sport     269731 non-null object\n",
      "event     269731 non-null object\n",
      "medal     39772 non-null category\n",
      "dtypes: category(4), float64(3), int64(2), object(6)\n",
      "memory usage: 26.3+ MB\n",
      "None\n"
     ]
    },
    {
     "data": {
      "text/html": [
       "<div>\n",
       "<style scoped>\n",
       "    .dataframe tbody tr th:only-of-type {\n",
       "        vertical-align: middle;\n",
       "    }\n",
       "\n",
       "    .dataframe tbody tr th {\n",
       "        vertical-align: top;\n",
       "    }\n",
       "\n",
       "    .dataframe thead th {\n",
       "        text-align: right;\n",
       "    }\n",
       "</style>\n",
       "<table border=\"1\" class=\"dataframe\">\n",
       "  <thead>\n",
       "    <tr style=\"text-align: right;\">\n",
       "      <th></th>\n",
       "      <th>id</th>\n",
       "      <th>age</th>\n",
       "      <th>height</th>\n",
       "      <th>weight</th>\n",
       "      <th>year</th>\n",
       "    </tr>\n",
       "  </thead>\n",
       "  <tbody>\n",
       "    <tr>\n",
       "      <th>count</th>\n",
       "      <td>269731.000000</td>\n",
       "      <td>260416.000000</td>\n",
       "      <td>210917.000000</td>\n",
       "      <td>208204.000000</td>\n",
       "      <td>269731.000000</td>\n",
       "    </tr>\n",
       "    <tr>\n",
       "      <th>mean</th>\n",
       "      <td>68264.949591</td>\n",
       "      <td>25.454776</td>\n",
       "      <td>175.338953</td>\n",
       "      <td>70.701778</td>\n",
       "      <td>1978.623073</td>\n",
       "    </tr>\n",
       "    <tr>\n",
       "      <th>std</th>\n",
       "      <td>39026.253843</td>\n",
       "      <td>6.163869</td>\n",
       "      <td>10.518507</td>\n",
       "      <td>14.349027</td>\n",
       "      <td>29.752055</td>\n",
       "    </tr>\n",
       "    <tr>\n",
       "      <th>min</th>\n",
       "      <td>1.000000</td>\n",
       "      <td>10.000000</td>\n",
       "      <td>127.000000</td>\n",
       "      <td>25.000000</td>\n",
       "      <td>1896.000000</td>\n",
       "    </tr>\n",
       "    <tr>\n",
       "      <th>25%</th>\n",
       "      <td>34655.500000</td>\n",
       "      <td>21.000000</td>\n",
       "      <td>168.000000</td>\n",
       "      <td>60.000000</td>\n",
       "      <td>1960.000000</td>\n",
       "    </tr>\n",
       "    <tr>\n",
       "      <th>50%</th>\n",
       "      <td>68233.000000</td>\n",
       "      <td>24.000000</td>\n",
       "      <td>175.000000</td>\n",
       "      <td>70.000000</td>\n",
       "      <td>1988.000000</td>\n",
       "    </tr>\n",
       "    <tr>\n",
       "      <th>75%</th>\n",
       "      <td>102111.000000</td>\n",
       "      <td>28.000000</td>\n",
       "      <td>183.000000</td>\n",
       "      <td>79.000000</td>\n",
       "      <td>2002.000000</td>\n",
       "    </tr>\n",
       "    <tr>\n",
       "      <th>max</th>\n",
       "      <td>135571.000000</td>\n",
       "      <td>97.000000</td>\n",
       "      <td>226.000000</td>\n",
       "      <td>214.000000</td>\n",
       "      <td>2016.000000</td>\n",
       "    </tr>\n",
       "  </tbody>\n",
       "</table>\n",
       "</div>"
      ],
      "text/plain": [
       "                  id            age         height         weight  \\\n",
       "count  269731.000000  260416.000000  210917.000000  208204.000000   \n",
       "mean    68264.949591      25.454776     175.338953      70.701778   \n",
       "std     39026.253843       6.163869      10.518507      14.349027   \n",
       "min         1.000000      10.000000     127.000000      25.000000   \n",
       "25%     34655.500000      21.000000     168.000000      60.000000   \n",
       "50%     68233.000000      24.000000     175.000000      70.000000   \n",
       "75%    102111.000000      28.000000     183.000000      79.000000   \n",
       "max    135571.000000      97.000000     226.000000     214.000000   \n",
       "\n",
       "                year  \n",
       "count  269731.000000  \n",
       "mean     1978.623073  \n",
       "std        29.752055  \n",
       "min      1896.000000  \n",
       "25%      1960.000000  \n",
       "50%      1988.000000  \n",
       "75%      2002.000000  \n",
       "max      2016.000000  "
      ]
     },
     "execution_count": 52,
     "metadata": {},
     "output_type": "execute_result"
    }
   ],
   "source": [
    "# Transform data into categories\n",
    "dataset[['sex', 'noc', 'medal', 'team']] = dataset[['sex', 'noc', 'medal', 'team']].astype('category')\n",
    "\n",
    "# Transform numeric data, and removing all strings\n",
    "df = dataset[['age', 'height', 'weight', 'year']]\n",
    "\n",
    "df = df.apply( pd.to_numeric, errors='coerce' )\n",
    "dataset[['age', 'height', 'weight', 'year']] = df\n",
    "# Remove duplicates\n",
    "dataset = dataset.drop_duplicates()\n",
    "print(dataset.info())\n",
    "dataset.describe()"
   ]
  },
  {
   "cell_type": "code",
   "execution_count": 53,
   "metadata": {},
   "outputs": [
    {
     "name": "stdout",
     "output_type": "stream",
     "text": [
      "Before data regularization\n",
      "age        9315\n",
      "height    58814\n",
      "weight    61527\n",
      "year          0\n",
      "dtype: int64\n",
      "\n",
      "After data regularization\n",
      "age       0\n",
      "height    0\n",
      "weight    0\n",
      "year      0\n",
      "dtype: int64\n"
     ]
    }
   ],
   "source": [
    "print('Before data regularization')\n",
    "print(dataset[['age', 'height', 'weight', 'year']].isnull().sum())\n",
    "\n",
    "columns = ['age', 'height', 'weight', 'year']\n",
    "for column in columns:\n",
    "    column_mean = dataset[column].mean()\n",
    "    dataset[column] = dataset[column].fillna(column_mean)\n",
    "    \n",
    "print('\\nAfter data regularization')\n",
    "print(dataset[['age', 'height', 'weight', 'year']].isnull().sum())"
   ]
  },
  {
   "cell_type": "code",
   "execution_count": 59,
   "metadata": {},
   "outputs": [
    {
     "name": "stdout",
     "output_type": "stream",
     "text": [
      "Min  age 10.0 Max  97.0 Range:  87.0 Variance:  40.87746406981645 Standart Deviation:  6.393548628877116\n",
      "Min  height 127.0 Max  226.0 Range:  99.0 Variance:  110.63752304227901 Standart Deviation:  10.518437290884945\n",
      "Min  weight 25.0 Max  214.0 Range:  189.0 Variance:  205.864689298862 Standart Deviation:  14.347985548461567\n",
      "Min  year 1896 Max  2016 Range:  120 Variance:  892.6696004812078 Standart Deviation:  29.877576884366103\n"
     ]
    }
   ],
   "source": [
    "columns = df.columns\n",
    "for column in columns:\n",
    "    min_val, max_val = minmax(df[column])\n",
    "    variance, standart_dev = varstd(df[column])\n",
    "    print(\"Min \", column, min_val, \"Max \", max_val, \"Range: \", max_val - min_val, \"Variance: \", variance, \"Standart Deviation: \",\n",
    "         standart_dev)"
   ]
  },
  {
   "cell_type": "code",
   "execution_count": 55,
   "metadata": {},
   "outputs": [
    {
     "name": "stdout",
     "output_type": "stream",
     "text": [
      "(269731,)\n",
      "[3.70739737e-06 7.41479474e-06 1.11221921e-05 ... 9.99992585e-01\n",
      " 9.99996293e-01 1.00000000e+00]\n",
      "[3.70739737e-06 7.41479474e-06 1.11221921e-05 ... 9.99992585e-01\n",
      " 9.99996293e-01 1.00000000e+00]\n",
      "[3.70739737e-06 7.41479474e-06 1.11221921e-05 ... 9.99992585e-01\n",
      " 9.99996293e-01 1.00000000e+00]\n"
     ]
    },
    {
     "data": {
      "text/plain": [
       "[<matplotlib.lines.Line2D at 0x22edd55d390>]"
      ]
     },
     "execution_count": 55,
     "metadata": {},
     "output_type": "execute_result"
    },
    {
     "data": {
      "image/png": "[encoded data removed]",
      "text/plain": [
       "<Figure size 432x288 with 1 Axes>"
      ]
     },
     "metadata": {},
     "output_type": "display_data"
    }
   ],
   "source": [
    "%matplotlib inline\n",
    "import numpy as np\n",
    "mu = np.mean(dataset['age'])\n",
    "sigma = np.std(dataset['age'])\n",
    "shape = dataset['age'].shape\n",
    "print(shape)\n",
    "testing_set = np.random.normal(mu, sigma, shape[0])\n",
    "x_text, y_test = ecdf(testing_set)\n",
    "x_text, y_test = ecdf(testing_set)\n",
    "x, y = ecdf(dataset['age'])\n",
    "plt.plot(x, y, linestyle='none', marker='.')\n",
    "plt.plot(x_text, y_test, linestyle='none', marker='.')"
   ]
  },
  {
   "cell_type": "code",
   "execution_count": 56,
   "metadata": {},
   "outputs": [
    {
     "data": {
      "text/plain": [
       "id             0\n",
       "name           0\n",
       "sex            0\n",
       "age            0\n",
       "height         0\n",
       "weight         0\n",
       "team           0\n",
       "noc            0\n",
       "games          0\n",
       "year           0\n",
       "season         0\n",
       "city           0\n",
       "sport          0\n",
       "event          0\n",
       "medal     229959\n",
       "dtype: int64"
      ]
     },
     "execution_count": 56,
     "metadata": {},
     "output_type": "execute_result"
    }
   ],
   "source": [
    "dataset.isnull().sum()"
   ]
  },
  {
   "cell_type": "code",
   "execution_count": 57,
   "metadata": {},
   "outputs": [
    {
     "name": "stdout",
     "output_type": "stream",
     "text": [
      "Number of rows: 269731\n",
      "Number of columns: 15\n"
     ]
    }
   ],
   "source": [
    "print('Number of rows: ' + str(dataset.shape[0]))\n",
    "print('Number of columns: ' + str(dataset.shape[1]))"
   ]
  },
  {
   "cell_type": "markdown",
   "metadata": {},
   "source": [
    "<h1> Frequency of Country Participation and Sport Activity </h1>"
   ]
  },
  {
   "cell_type": "code",
   "execution_count": 25,
   "metadata": {},
   "outputs": [
    {
     "data": {
      "text/plain": [
       "USA    18604\n",
       "FRA    12551\n",
       "GBR    12115\n",
       "ITA    10668\n",
       "GER     9734\n",
       "Name: noc, dtype: int64"
      ]
     },
     "execution_count": 25,
     "metadata": {},
     "output_type": "execute_result"
    }
   ],
   "source": [
    "dataset.noc.value_counts(dropna=False).head()"
   ]
  },
  {
   "cell_type": "code",
   "execution_count": 26,
   "metadata": {},
   "outputs": [
    {
     "data": {
      "text/plain": [
       "Athletics     38624\n",
       "Gymnastics    26707\n",
       "Swimming      23195\n",
       "Shooting      11448\n",
       "Cycling       10827\n",
       "Name: sport, dtype: int64"
      ]
     },
     "execution_count": 26,
     "metadata": {},
     "output_type": "execute_result"
    }
   ],
   "source": [
    "dataset.sport.value_counts(dropna=False).head()"
   ]
  },
  {
   "cell_type": "markdown",
   "metadata": {},
   "source": [
    "<h1>Tidy Data</h1>"
   ]
  },
  {
   "cell_type": "code",
   "execution_count": 13,
   "metadata": {},
   "outputs": [
    {
     "data": {
      "text/html": [
       "<div>\n",
       "<style scoped>\n",
       "    .dataframe tbody tr th:only-of-type {\n",
       "        vertical-align: middle;\n",
       "    }\n",
       "\n",
       "    .dataframe tbody tr th {\n",
       "        vertical-align: top;\n",
       "    }\n",
       "\n",
       "    .dataframe thead th {\n",
       "        text-align: right;\n",
       "    }\n",
       "</style>\n",
       "<table border=\"1\" class=\"dataframe\">\n",
       "  <thead>\n",
       "    <tr style=\"text-align: right;\">\n",
       "      <th></th>\n",
       "      <th>name</th>\n",
       "      <th>type</th>\n",
       "      <th>result</th>\n",
       "    </tr>\n",
       "  </thead>\n",
       "  <tbody>\n",
       "    <tr>\n",
       "      <th>0</th>\n",
       "      <td>A Dijiang</td>\n",
       "      <td>team</td>\n",
       "      <td>China</td>\n",
       "    </tr>\n",
       "    <tr>\n",
       "      <th>1</th>\n",
       "      <td>A Lamusi</td>\n",
       "      <td>team</td>\n",
       "      <td>China</td>\n",
       "    </tr>\n",
       "    <tr>\n",
       "      <th>2</th>\n",
       "      <td>Gunnar Nielsen Aaby</td>\n",
       "      <td>team</td>\n",
       "      <td>Denmark</td>\n",
       "    </tr>\n",
       "    <tr>\n",
       "      <th>3</th>\n",
       "      <td>Edgar Lindenau Aabye</td>\n",
       "      <td>team</td>\n",
       "      <td>Denmark/Sweden</td>\n",
       "    </tr>\n",
       "    <tr>\n",
       "      <th>4</th>\n",
       "      <td>Christine Jacoba Aaftink</td>\n",
       "      <td>team</td>\n",
       "      <td>Netherlands</td>\n",
       "    </tr>\n",
       "  </tbody>\n",
       "</table>\n",
       "</div>"
      ],
      "text/plain": [
       "                       name  type          result\n",
       "0                 A Dijiang  team           China\n",
       "1                  A Lamusi  team           China\n",
       "2       Gunnar Nielsen Aaby  team         Denmark\n",
       "3      Edgar Lindenau Aabye  team  Denmark/Sweden\n",
       "4  Christine Jacoba Aaftink  team     Netherlands"
      ]
     },
     "execution_count": 13,
     "metadata": {},
     "output_type": "execute_result"
    }
   ],
   "source": [
    "athlete_df = dataset[['name', 'team', 'noc']]\n",
    "\n",
    "athlete_df = pd.melt(frame=athlete_df, id_vars='name', value_vars=['team', 'noc'], var_name='type', value_name='result')\n",
    "athlete_df.head(5)"
   ]
  },
  {
   "cell_type": "code",
   "execution_count": null,
   "metadata": {},
   "outputs": [],
   "source": []
  },
  {
   "cell_type": "code",
   "execution_count": null,
   "metadata": {},
   "outputs": [],
   "source": []
  },
  {
   "cell_type": "code",
   "execution_count": null,
   "metadata": {},
   "outputs": [],
   "source": []
  },
  {
   "cell_type": "code",
   "execution_count": null,
   "metadata": {},
   "outputs": [],
   "source": []
  }
 ],
 "metadata": {
  "kernelspec": {
   "display_name": "Python 3",
   "language": "python",
   "name": "python3"
  },
  "language_info": {
   "codemirror_mode": {
    "name": "ipython",
    "version": 3
   },
   "file_extension": ".py",
   "mimetype": "text/x-python",
   "name": "python",
   "nbconvert_exporter": "python",
   "pygments_lexer": "ipython3",
   "version": "3.7.0"
  }
 },
 "nbformat": 4,
 "nbformat_minor": 2
}
