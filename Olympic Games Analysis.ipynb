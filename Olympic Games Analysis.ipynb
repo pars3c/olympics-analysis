{
 "cells": [
  {
   "cell_type": "code",
   "execution_count": 28,
   "metadata": {},
   "outputs": [
    {
     "data": {
      "text/html": [
       "<style>ul.unstyled, ul.unstyled ul, ul.unstyled li {  list-style-type: none;  font-size: 20px;  font-weight: 600;}</style><h1>Olympic Games Analysis</h1><ul class=\"unstyled\"><li><a href=\"#\">Introduction</a></li><li><a href=\"#\">Requirements</a></li><li><a href=\"#\">Male Analysis</a></li><ul><li><a href=\"#\">Winning Density based on physique</a></li><li><a href=\"#\">Physique</a></li><li><a href=\"#\">Age</a></li></ul><li><a href=\"#\">Female Analysis</a></li><ul><li><a href=\"#\">Winning Density based on physique</a></li><li><a href=\"#\">Physique</a></li><li><a href=\"#\">Age</a></li></ul><li><a href=\"#\">Geographic Analysis</a></li></ul><img src=\"img/olympics-animation.jpg\">"
      ],
      "text/plain": [
       "<IPython.core.display.HTML object>"
      ]
     },
     "metadata": {},
     "output_type": "display_data"
    }
   ],
   "source": [
    "from IPython.display import display\n",
    "from vdom.helpers import h1, p, img, div, b, li, ul, h2, h3, h4, h5, a\n",
    "from IPython.display import display, HTML\n",
    "\n",
    "with open (\"custom.css\", \"r\") as myfile:\n",
    "    custom_css = myfile.read().replace('\\n', '')\n",
    "\n",
    "title = '<h1>Olympic Games Analysis</h1>'\n",
    "indexes = ({1: {'name': {'Introduction'}},\n",
    "            2: {'name': {'Requirements'}},\n",
    "            3: {'name': {'Male Analysis'}},\n",
    "            4: {'name': {'Physique', 'Age', 'Winning Density based on physique'}},\n",
    "            5: {'name': {'Female Analysis'}},\n",
    "            6: {'name': {'Physique', 'Age', 'Winning Density based on physique'}},\n",
    "            7: {'name': {'Gender Gap'}},\n",
    "            7: {'name': {'Geographic Analysis'}},\n",
    "            })\n",
    "\n",
    "\n",
    "def listIndex(indexes):\n",
    "    html = custom_css\n",
    "    html += title\n",
    "    html += '<ul class=\"unstyled\">'\n",
    "    \n",
    "    for x in range(1, 8):\n",
    "        try:\n",
    "        \n",
    "            index_len = len(indexes[x]['name'])\n",
    "            if index_len > 1:\n",
    "                html += '<ul>'\n",
    "            for i in indexes[x]['name']:\n",
    "                html += '<li><a href=\"#\">' + i + '</a></li>'\n",
    "            if index_len > 1:\n",
    "                html += '</ul>'\n",
    "        except Exception:\n",
    "            break\n",
    "    html += '</ul>'\n",
    "    html += '<img src=\"img/olympics-animation.jpg\">'\n",
    "    return html\n",
    "\n",
    "display(HTML(listIndex(indexes)))"
   ]
  },
  {
   "cell_type": "code",
   "execution_count": null,
   "metadata": {
    "collapsed": true
   },
   "outputs": [],
   "source": []
  }
 ],
 "metadata": {
  "kernelspec": {
   "display_name": "Python 3",
   "language": "python",
   "name": "python3"
  },
  "language_info": {
   "codemirror_mode": {
    "name": "ipython",
    "version": 3
   },
   "file_extension": ".py",
   "mimetype": "text/x-python",
   "name": "python",
   "nbconvert_exporter": "python",
   "pygments_lexer": "ipython3",
   "version": "3.7.0"
  }
 },
 "nbformat": 4,
 "nbformat_minor": 2
}
