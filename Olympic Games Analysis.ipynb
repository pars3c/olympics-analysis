{
 "cells": [
  {
   "cell_type": "code",
   "execution_count": 1,
   "metadata": {},
   "outputs": [
    {
     "data": {
      "text/html": [
       "<style>ul.unstyled, ul.unstyled ul, ul.unstyled li {  list-style-type: none;  font-size: 20px;  font-weight: 600;}</style><h1>Olympic Games Analysis</h1><img src=\"img/olympics-animation.jpg\"><ul class=\"unstyled\"><li><a href=\"#introduction\">Introduction</a></li><li><a href=\"#requirements\">Requirements</a></li><li><a href=\"#data_cleaning\">Data Cleaning</a></li><li><a href=\"#male_analysis\">Male Analysis</a></li><ul><li><a href=\"#age_male\">Winning Density based on physique</a></li><li><a href=\"#winning_male_density_physique\">Age</a></li><li><a href=\"#physique_male\">Physique</a></li></ul><li><a href=\"#female_analysis\">Female Analysis</a></li><ul><li><a href=\"#physique_female\">Winning Density based on physique</a></li><li><a href=\"#winning_female_density_physique\">Age</a></li><li><a href=\"#age_female\">Physique</a></li></ul><li><a href=\"#gender_gap\">Gender Gap</a></li></ul>"
      ],
      "text/plain": [
       "<IPython.core.display.HTML object>"
      ]
     },
     "metadata": {},
     "output_type": "display_data"
    }
   ],
   "source": [
    "from IPython.display import display\n",
    "from vdom.helpers import h1, p, img, div, b, li, ul, h2, h3, h4, h5, a\n",
    "from IPython.display import display, HTML\n",
    "\n",
    "with open (\"custom.css\", \"r\") as myfile:\n",
    "    custom_css = myfile.read().replace('\\n', '')\n",
    "\n",
    "title = '<h1>Olympic Games Analysis</h1>'\n",
    "indexes = ({1: {'name': {'Introduction'}},\n",
    "            2: {'name': {'Requirements'}},\n",
    "            3: {'name': {'Data Cleaning'}},\n",
    "            4: {'name': {'Male Analysis'}},\n",
    "            5: {'name': {'Physique', 'Age', 'Winning Density based on physique'}},\n",
    "            6: {'name': {'Female Analysis'}},\n",
    "            7: {'name': {'Physique', 'Age', 'Winning Density based on physique'}},\n",
    "            8: {'name': {'Gender Gap'}},\n",
    "            9: {'name': {'Geographic Analysis'}},\n",
    "            })\n",
    "          \n",
    "links =   ({1: {'link': {'#introduction'}},\n",
    "            2: {'link': {'#requirements'}},\n",
    "            3: {'link': {'#data_cleaning'}},\n",
    "            4: {'link': {'#male_analysis'}},\n",
    "            5: {'link': {'#physique_male', '#age_male', '#winning_male_density_physique'}},\n",
    "            6: {'link': {'#female_analysis'}},\n",
    "            7: {'link': {'#physique_female', '#age_female', '#winning_female_density_physique'}},\n",
    "            8: {'link': {'#gender_gap'}},\n",
    "            9: {'link': {'#geographic_analysis'}},\n",
    "            })\n",
    "\n",
    "\n",
    "def listIndex(indexes):\n",
    "    html = custom_css\n",
    "    html += title\n",
    "    html += '<img src=\"img/olympics-animation.jpg\">'\n",
    "    html += '<ul class=\"unstyled\">'\n",
    "    \n",
    "    for x in range(1, 9):\n",
    "        try:\n",
    "        \n",
    "            index_len = len(indexes[x]['name'])\n",
    "            if index_len > 1:\n",
    "                html += '<ul>'\n",
    "                pass\n",
    "            for i, j in zip(indexes[x]['name'], links[x]['link']):\n",
    "                html += '<li><a href=\"' + j + '\">' + i + '</a></li>'\n",
    "            if index_len > 1:\n",
    "                html += '</ul>'\n",
    "                pass\n",
    "        except Exception:\n",
    "            break\n",
    "    html += '</ul>'\n",
    "    \n",
    "    return html\n",
    "\n",
    "display(HTML(listIndex(indexes)))"
   ]
  },
  {
   "cell_type": "markdown",
   "metadata": {},
   "source": [
    "<h1> Requirements </h1>"
   ]
  },
  {
   "cell_type": "code",
   "execution_count": 2,
   "metadata": {},
   "outputs": [],
   "source": [
    "import pandas as pd\n",
    "import numpy as np\n",
    "import matplotlib.pyplot as plt\n",
    "import seaborn as sns\n",
    "\n"
   ]
  },
  {
   "cell_type": "code",
   "execution_count": 3,
   "metadata": {},
   "outputs": [],
   "source": [
    "\n",
    "# Cumulative distribution function\n",
    "def ecdf(data):\n",
    "    \"\"\"Compute ECDF for a one-dimensional array of measurements.\"\"\"\n",
    "    # Number of data points: n\n",
    "    n = len(data)\n",
    "    # x-data for the ECDF: x\n",
    "    x = np.sort(data)\n",
    "\n",
    "    # y-data for the ECDF: y\n",
    "    y = np.arange(1, n+1) / n\n",
    "    print(y)\n",
    "    return x, y"
   ]
  },
  {
   "cell_type": "code",
   "execution_count": 14,
   "metadata": {},
   "outputs": [
    {
     "name": "stdout",
     "output_type": "stream",
     "text": [
      "['datasets\\\\athlete_events.csv', 'datasets\\\\noc_regions.csv']\n"
     ]
    },
    {
     "data": {
      "text/html": [
       "<div>\n",
       "<style scoped>\n",
       "    .dataframe tbody tr th:only-of-type {\n",
       "        vertical-align: middle;\n",
       "    }\n",
       "\n",
       "    .dataframe tbody tr th {\n",
       "        vertical-align: top;\n",
       "    }\n",
       "\n",
       "    .dataframe thead th {\n",
       "        text-align: right;\n",
       "    }\n",
       "</style>\n",
       "<table border=\"1\" class=\"dataframe\">\n",
       "  <thead>\n",
       "    <tr style=\"text-align: right;\">\n",
       "      <th></th>\n",
       "      <th>ID</th>\n",
       "      <th>Name</th>\n",
       "      <th>Sex</th>\n",
       "      <th>Age</th>\n",
       "      <th>Height</th>\n",
       "      <th>Weight</th>\n",
       "      <th>Team</th>\n",
       "      <th>NOC</th>\n",
       "      <th>Games</th>\n",
       "      <th>Year</th>\n",
       "      <th>Season</th>\n",
       "      <th>City</th>\n",
       "      <th>Sport</th>\n",
       "      <th>Event</th>\n",
       "      <th>Medal</th>\n",
       "    </tr>\n",
       "  </thead>\n",
       "  <tbody>\n",
       "    <tr>\n",
       "      <th>233660</th>\n",
       "      <td>117186</td>\n",
       "      <td>Robert Sycz</td>\n",
       "      <td>M</td>\n",
       "      <td>30.0</td>\n",
       "      <td>183.0</td>\n",
       "      <td>75.0</td>\n",
       "      <td>Poland</td>\n",
       "      <td>POL</td>\n",
       "      <td>2004 Summer</td>\n",
       "      <td>2004</td>\n",
       "      <td>Summer</td>\n",
       "      <td>Athina</td>\n",
       "      <td>Rowing</td>\n",
       "      <td>Rowing Men's Lightweight Double Sculls</td>\n",
       "      <td>Gold</td>\n",
       "    </tr>\n",
       "    <tr>\n",
       "      <th>427</th>\n",
       "      <td>236</td>\n",
       "      <td>Ragab Abdelhay Saad Abdelrazek Abdallah</td>\n",
       "      <td>M</td>\n",
       "      <td>21.0</td>\n",
       "      <td>170.0</td>\n",
       "      <td>94.0</td>\n",
       "      <td>Egypt</td>\n",
       "      <td>EGY</td>\n",
       "      <td>2012 Summer</td>\n",
       "      <td>2012</td>\n",
       "      <td>Summer</td>\n",
       "      <td>London</td>\n",
       "      <td>Weightlifting</td>\n",
       "      <td>Weightlifting Men's Light-Heavyweight</td>\n",
       "      <td>NaN</td>\n",
       "    </tr>\n",
       "    <tr>\n",
       "      <th>251921</th>\n",
       "      <td>126158</td>\n",
       "      <td>Jzsef Vrtesy (Vrbel-)</td>\n",
       "      <td>M</td>\n",
       "      <td>23.0</td>\n",
       "      <td>NaN</td>\n",
       "      <td>NaN</td>\n",
       "      <td>Hungary</td>\n",
       "      <td>HUN</td>\n",
       "      <td>1924 Summer</td>\n",
       "      <td>1924</td>\n",
       "      <td>Summer</td>\n",
       "      <td>Paris</td>\n",
       "      <td>Water Polo</td>\n",
       "      <td>Water Polo Men's Water Polo</td>\n",
       "      <td>NaN</td>\n",
       "    </tr>\n",
       "    <tr>\n",
       "      <th>18897</th>\n",
       "      <td>10015</td>\n",
       "      <td>Enrico Benedetti</td>\n",
       "      <td>M</td>\n",
       "      <td>23.0</td>\n",
       "      <td>NaN</td>\n",
       "      <td>NaN</td>\n",
       "      <td>Italy</td>\n",
       "      <td>ITA</td>\n",
       "      <td>1964 Winter</td>\n",
       "      <td>1964</td>\n",
       "      <td>Winter</td>\n",
       "      <td>Innsbruck</td>\n",
       "      <td>Ice Hockey</td>\n",
       "      <td>Ice Hockey Men's Ice Hockey</td>\n",
       "      <td>NaN</td>\n",
       "    </tr>\n",
       "    <tr>\n",
       "      <th>9925</th>\n",
       "      <td>5428</td>\n",
       "      <td>Lena Sofia Alexandra Arvidsson</td>\n",
       "      <td>F</td>\n",
       "      <td>24.0</td>\n",
       "      <td>176.0</td>\n",
       "      <td>69.0</td>\n",
       "      <td>Sweden</td>\n",
       "      <td>SWE</td>\n",
       "      <td>2008 Summer</td>\n",
       "      <td>2008</td>\n",
       "      <td>Summer</td>\n",
       "      <td>Beijing</td>\n",
       "      <td>Tennis</td>\n",
       "      <td>Tennis Women's Singles</td>\n",
       "      <td>NaN</td>\n",
       "    </tr>\n",
       "  </tbody>\n",
       "</table>\n",
       "</div>"
      ],
      "text/plain": [
       "            ID                                     Name Sex   Age  Height  \\\n",
       "233660  117186                              Robert Sycz   M  30.0   183.0   \n",
       "427        236  Ragab Abdelhay Saad Abdelrazek Abdallah   M  21.0   170.0   \n",
       "251921  126158                    Jzsef Vrtesy (Vrbel-)   M  23.0     NaN   \n",
       "18897    10015                         Enrico Benedetti   M  23.0     NaN   \n",
       "9925      5428           Lena Sofia Alexandra Arvidsson   F  24.0   176.0   \n",
       "\n",
       "        Weight     Team  NOC        Games  Year  Season       City  \\\n",
       "233660    75.0   Poland  POL  2004 Summer  2004  Summer     Athina   \n",
       "427       94.0    Egypt  EGY  2012 Summer  2012  Summer     London   \n",
       "251921     NaN  Hungary  HUN  1924 Summer  1924  Summer      Paris   \n",
       "18897      NaN    Italy  ITA  1964 Winter  1964  Winter  Innsbruck   \n",
       "9925      69.0   Sweden  SWE  2008 Summer  2008  Summer    Beijing   \n",
       "\n",
       "                Sport                                   Event Medal  \n",
       "233660         Rowing  Rowing Men's Lightweight Double Sculls  Gold  \n",
       "427     Weightlifting   Weightlifting Men's Light-Heavyweight   NaN  \n",
       "251921     Water Polo             Water Polo Men's Water Polo   NaN  \n",
       "18897      Ice Hockey             Ice Hockey Men's Ice Hockey   NaN  \n",
       "9925           Tennis                  Tennis Women's Singles   NaN  "
      ]
     },
     "execution_count": 14,
     "metadata": {},
     "output_type": "execute_result"
    }
   ],
   "source": [
    "import glob\n",
    "csv_files = glob.glob('datasets/*.csv')\n",
    "dataset = pd.read_csv(csv_files[0])\n",
    "print(csv_files)\n",
    "dataset.sample(5)"
   ]
  },
  {
   "cell_type": "code",
   "execution_count": 18,
   "metadata": {},
   "outputs": [
    {
     "name": "stdout",
     "output_type": "stream",
     "text": [
      "<class 'pandas.core.frame.DataFrame'>\n",
      "RangeIndex: 271116 entries, 0 to 271115\n",
      "Data columns (total 15 columns):\n",
      "id        271116 non-null int64\n",
      "name      271116 non-null object\n",
      "sex       271116 non-null object\n",
      "age       261642 non-null float64\n",
      "height    210945 non-null float64\n",
      "weight    208241 non-null float64\n",
      "team      271116 non-null object\n",
      "noc       271116 non-null object\n",
      "games     271116 non-null object\n",
      "year      271116 non-null int64\n",
      "season    271116 non-null object\n",
      "city      271116 non-null object\n",
      "sport     271116 non-null object\n",
      "event     271116 non-null object\n",
      "medal     39783 non-null object\n",
      "dtypes: float64(3), int64(2), object(10)\n",
      "memory usage: 31.0+ MB\n",
      "None\n",
      "Index(['id', 'name', 'sex', 'age', 'height', 'weight', 'team', 'noc', 'games',\n",
      "       'year', 'season', 'city', 'sport', 'event', 'medal'],\n",
      "      dtype='object')\n"
     ]
    }
   ],
   "source": [
    "dataset.columns = dataset.columns.str.lower()\n",
    "print(dataset.info())\n",
    "print(dataset.columns)"
   ]
  },
  {
   "cell_type": "code",
   "execution_count": 30,
   "metadata": {},
   "outputs": [
    {
     "name": "stdout",
     "output_type": "stream",
     "text": [
      "<class 'pandas.core.frame.DataFrame'>\n",
      "Int64Index: 269731 entries, 0 to 271115\n",
      "Data columns (total 15 columns):\n",
      "id        269731 non-null int64\n",
      "name      269731 non-null object\n",
      "sex       269731 non-null category\n",
      "age       260416 non-null float64\n",
      "height    210917 non-null float64\n",
      "weight    208204 non-null float64\n",
      "team      269731 non-null category\n",
      "noc       269731 non-null category\n",
      "games     269731 non-null object\n",
      "year      269731 non-null int64\n",
      "season    269731 non-null object\n",
      "city      269731 non-null object\n",
      "sport     269731 non-null object\n",
      "event     269731 non-null object\n",
      "medal     39772 non-null category\n",
      "dtypes: category(4), float64(3), int64(2), object(6)\n",
      "memory usage: 26.3+ MB\n",
      "None\n"
     ]
    },
    {
     "data": {
      "text/html": [
       "<div>\n",
       "<style scoped>\n",
       "    .dataframe tbody tr th:only-of-type {\n",
       "        vertical-align: middle;\n",
       "    }\n",
       "\n",
       "    .dataframe tbody tr th {\n",
       "        vertical-align: top;\n",
       "    }\n",
       "\n",
       "    .dataframe thead th {\n",
       "        text-align: right;\n",
       "    }\n",
       "</style>\n",
       "<table border=\"1\" class=\"dataframe\">\n",
       "  <thead>\n",
       "    <tr style=\"text-align: right;\">\n",
       "      <th></th>\n",
       "      <th>id</th>\n",
       "      <th>age</th>\n",
       "      <th>height</th>\n",
       "      <th>weight</th>\n",
       "      <th>year</th>\n",
       "    </tr>\n",
       "  </thead>\n",
       "  <tbody>\n",
       "    <tr>\n",
       "      <th>count</th>\n",
       "      <td>269731.000000</td>\n",
       "      <td>260416.000000</td>\n",
       "      <td>210917.000000</td>\n",
       "      <td>208204.000000</td>\n",
       "      <td>269731.000000</td>\n",
       "    </tr>\n",
       "    <tr>\n",
       "      <th>mean</th>\n",
       "      <td>68264.949591</td>\n",
       "      <td>25.454776</td>\n",
       "      <td>175.338953</td>\n",
       "      <td>70.701778</td>\n",
       "      <td>1978.623073</td>\n",
       "    </tr>\n",
       "    <tr>\n",
       "      <th>std</th>\n",
       "      <td>39026.253843</td>\n",
       "      <td>6.163869</td>\n",
       "      <td>10.518507</td>\n",
       "      <td>14.349027</td>\n",
       "      <td>29.752055</td>\n",
       "    </tr>\n",
       "    <tr>\n",
       "      <th>min</th>\n",
       "      <td>1.000000</td>\n",
       "      <td>10.000000</td>\n",
       "      <td>127.000000</td>\n",
       "      <td>25.000000</td>\n",
       "      <td>1896.000000</td>\n",
       "    </tr>\n",
       "    <tr>\n",
       "      <th>25%</th>\n",
       "      <td>34655.500000</td>\n",
       "      <td>21.000000</td>\n",
       "      <td>168.000000</td>\n",
       "      <td>60.000000</td>\n",
       "      <td>1960.000000</td>\n",
       "    </tr>\n",
       "    <tr>\n",
       "      <th>50%</th>\n",
       "      <td>68233.000000</td>\n",
       "      <td>24.000000</td>\n",
       "      <td>175.000000</td>\n",
       "      <td>70.000000</td>\n",
       "      <td>1988.000000</td>\n",
       "    </tr>\n",
       "    <tr>\n",
       "      <th>75%</th>\n",
       "      <td>102111.000000</td>\n",
       "      <td>28.000000</td>\n",
       "      <td>183.000000</td>\n",
       "      <td>79.000000</td>\n",
       "      <td>2002.000000</td>\n",
       "    </tr>\n",
       "    <tr>\n",
       "      <th>max</th>\n",
       "      <td>135571.000000</td>\n",
       "      <td>97.000000</td>\n",
       "      <td>226.000000</td>\n",
       "      <td>214.000000</td>\n",
       "      <td>2016.000000</td>\n",
       "    </tr>\n",
       "  </tbody>\n",
       "</table>\n",
       "</div>"
      ],
      "text/plain": [
       "                  id            age         height         weight  \\\n",
       "count  269731.000000  260416.000000  210917.000000  208204.000000   \n",
       "mean    68264.949591      25.454776     175.338953      70.701778   \n",
       "std     39026.253843       6.163869      10.518507      14.349027   \n",
       "min         1.000000      10.000000     127.000000      25.000000   \n",
       "25%     34655.500000      21.000000     168.000000      60.000000   \n",
       "50%     68233.000000      24.000000     175.000000      70.000000   \n",
       "75%    102111.000000      28.000000     183.000000      79.000000   \n",
       "max    135571.000000      97.000000     226.000000     214.000000   \n",
       "\n",
       "                year  \n",
       "count  269731.000000  \n",
       "mean     1978.623073  \n",
       "std        29.752055  \n",
       "min      1896.000000  \n",
       "25%      1960.000000  \n",
       "50%      1988.000000  \n",
       "75%      2002.000000  \n",
       "max      2016.000000  "
      ]
     },
     "execution_count": 30,
     "metadata": {},
     "output_type": "execute_result"
    }
   ],
   "source": [
    "# Transform data into categories\n",
    "dataset[['sex', 'noc', 'medal', 'team']] = dataset[['sex', 'noc', 'medal', 'team']].astype('category')\n",
    "\n",
    "# Transform numeric data, and removing all strings\n",
    "df = dataset[['age', 'height', 'weight', 'year']]\n",
    "\n",
    "df = df.apply( pd.to_numeric, errors='coerce' )\n",
    "dataset[['age', 'height', 'weight', 'year']] = df\n",
    "# Remove duplicates\n",
    "dataset = dataset.drop_duplicates()\n",
    "print(dataset.info())\n",
    "dataset.describe()"
   ]
  },
  {
   "cell_type": "code",
   "execution_count": 39,
   "metadata": {},
   "outputs": [
    {
     "name": "stdout",
     "output_type": "stream",
     "text": [
      "Before data regularization\n",
      "age       0\n",
      "height    0\n",
      "weight    0\n",
      "year      0\n",
      "dtype: int64\n",
      "\n",
      "After data regularization\n",
      "age       0\n",
      "height    0\n",
      "weight    0\n",
      "year      0\n",
      "dtype: int64\n"
     ]
    }
   ],
   "source": [
    "print('Before data regularization')\n",
    "print(dataset[['age', 'height', 'weight', 'year']].isnull().sum())\n",
    "\n",
    "columns = ['age', 'height', 'weight', 'year']\n",
    "for column in columns:\n",
    "    column_mean = dataset[column].mean()\n",
    "    dataset[column] = dataset[column].fillna(column_mean)\n",
    "    \n",
    "print('\\nAfter data regularization')\n",
    "print(dataset[['age', 'height', 'weight', 'year']].isnull().sum())"
   ]
  },
  {
   "cell_type": "code",
   "execution_count": 17,
   "metadata": {},
   "outputs": [
    {
     "name": "stdout",
     "output_type": "stream",
     "text": [
      "[3.68845808e-06 7.37691615e-06 1.10653742e-05 ... 9.99992623e-01\n",
      " 9.99996312e-01 1.00000000e+00]\n"
     ]
    },
    {
     "data": {
      "text/plain": [
       "[<matplotlib.lines.Line2D at 0x1f20889aef0>]"
      ]
     },
     "execution_count": 17,
     "metadata": {},
     "output_type": "execute_result"
    },
    {
     "data": {
      "image/png": "[encoded data removed]",
      "text/plain": [
       "<Figure size 432x288 with 1 Axes>"
      ]
     },
     "metadata": {},
     "output_type": "display_data"
    }
   ],
   "source": [
    "%matplotlib inline\n",
    "x, y = ecdf(dataset['age'])\n",
    "plt.plot(x, y, linestyle='none', marker='.')"
   ]
  },
  {
   "cell_type": "code",
   "execution_count": 8,
   "metadata": {},
   "outputs": [
    {
     "data": {
      "text/plain": [
       "id             0\n",
       "name           0\n",
       "sex            0\n",
       "age         9474\n",
       "height     60171\n",
       "weight     62875\n",
       "team           0\n",
       "noc            0\n",
       "games          0\n",
       "year           0\n",
       "season         0\n",
       "city           0\n",
       "sport          0\n",
       "event          0\n",
       "medal     231333\n",
       "dtype: int64"
      ]
     },
     "execution_count": 8,
     "metadata": {},
     "output_type": "execute_result"
    }
   ],
   "source": [
    "dataset.isnull().sum()"
   ]
  },
  {
   "cell_type": "code",
   "execution_count": 9,
   "metadata": {},
   "outputs": [
    {
     "name": "stdout",
     "output_type": "stream",
     "text": [
      "Number of rows: 271116\n",
      "Number of columns: 15\n"
     ]
    }
   ],
   "source": [
    "print('Number of rows: ' + str(dataset.shape[0]))\n",
    "print('Number of columns: ' + str(dataset.shape[1]))"
   ]
  },
  {
   "cell_type": "markdown",
   "metadata": {},
   "source": [
    "<h1> Frequency of Country Participation and Sport Activity </h1>"
   ]
  },
  {
   "cell_type": "code",
   "execution_count": 21,
   "metadata": {},
   "outputs": [
    {
     "data": {
      "text/plain": [
       "USA    18853\n",
       "FRA    12758\n",
       "GBR    12256\n",
       "ITA    10715\n",
       "GER     9830\n",
       "Name: noc, dtype: int64"
      ]
     },
     "execution_count": 21,
     "metadata": {},
     "output_type": "execute_result"
    }
   ],
   "source": [
    "dataset.noc.value_counts(dropna=False).head()"
   ]
  },
  {
   "cell_type": "code",
   "execution_count": 22,
   "metadata": {},
   "outputs": [
    {
     "data": {
      "text/plain": [
       "Athletics     38624\n",
       "Gymnastics    26707\n",
       "Swimming      23195\n",
       "Shooting      11448\n",
       "Cycling       10859\n",
       "Name: sport, dtype: int64"
      ]
     },
     "execution_count": 22,
     "metadata": {},
     "output_type": "execute_result"
    }
   ],
   "source": [
    "dataset.sport.value_counts(dropna=False).head()"
   ]
  },
  {
   "cell_type": "markdown",
   "metadata": {},
   "source": [
    "<h1>Tidy Data</h1>"
   ]
  },
  {
   "cell_type": "code",
   "execution_count": 34,
   "metadata": {},
   "outputs": [
    {
     "data": {
      "text/html": [
       "<div>\n",
       "<style scoped>\n",
       "    .dataframe tbody tr th:only-of-type {\n",
       "        vertical-align: middle;\n",
       "    }\n",
       "\n",
       "    .dataframe tbody tr th {\n",
       "        vertical-align: top;\n",
       "    }\n",
       "\n",
       "    .dataframe thead th {\n",
       "        text-align: right;\n",
       "    }\n",
       "</style>\n",
       "<table border=\"1\" class=\"dataframe\">\n",
       "  <thead>\n",
       "    <tr style=\"text-align: right;\">\n",
       "      <th></th>\n",
       "      <th>name</th>\n",
       "      <th>type</th>\n",
       "      <th>result</th>\n",
       "    </tr>\n",
       "  </thead>\n",
       "  <tbody>\n",
       "    <tr>\n",
       "      <th>0</th>\n",
       "      <td>A Dijiang</td>\n",
       "      <td>team</td>\n",
       "      <td>China</td>\n",
       "    </tr>\n",
       "    <tr>\n",
       "      <th>1</th>\n",
       "      <td>A Lamusi</td>\n",
       "      <td>team</td>\n",
       "      <td>China</td>\n",
       "    </tr>\n",
       "    <tr>\n",
       "      <th>2</th>\n",
       "      <td>Gunnar Nielsen Aaby</td>\n",
       "      <td>team</td>\n",
       "      <td>Denmark</td>\n",
       "    </tr>\n",
       "    <tr>\n",
       "      <th>3</th>\n",
       "      <td>Edgar Lindenau Aabye</td>\n",
       "      <td>team</td>\n",
       "      <td>Denmark/Sweden</td>\n",
       "    </tr>\n",
       "    <tr>\n",
       "      <th>4</th>\n",
       "      <td>Christine Jacoba Aaftink</td>\n",
       "      <td>team</td>\n",
       "      <td>Netherlands</td>\n",
       "    </tr>\n",
       "  </tbody>\n",
       "</table>\n",
       "</div>"
      ],
      "text/plain": [
       "                       name  type          result\n",
       "0                 A Dijiang  team           China\n",
       "1                  A Lamusi  team           China\n",
       "2       Gunnar Nielsen Aaby  team         Denmark\n",
       "3      Edgar Lindenau Aabye  team  Denmark/Sweden\n",
       "4  Christine Jacoba Aaftink  team     Netherlands"
      ]
     },
     "execution_count": 34,
     "metadata": {},
     "output_type": "execute_result"
    }
   ],
   "source": [
    "athlete_df = dataset[['name', 'team', 'noc']]\n",
    "\n",
    "athlete_df = pd.melt(frame=athlete_df, id_vars='name', value_vars=['team', 'noc'], var_name='type', value_name='result')\n",
    "athlete_df.head(5)"
   ]
  },
  {
   "cell_type": "code",
   "execution_count": null,
   "metadata": {},
   "outputs": [],
   "source": []
  }
 ],
 "metadata": {
  "kernelspec": {
   "display_name": "Python 3",
   "language": "python",
   "name": "python3"
  },
  "language_info": {
   "codemirror_mode": {
    "name": "ipython",
    "version": 3
   },
   "file_extension": ".py",
   "mimetype": "text/x-python",
   "name": "python",
   "nbconvert_exporter": "python",
   "pygments_lexer": "ipython3",
   "version": "3.7.0"
  }
 },
 "nbformat": 4,
 "nbformat_minor": 2
}
