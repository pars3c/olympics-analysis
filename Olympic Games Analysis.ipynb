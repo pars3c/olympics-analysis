{
 "cells": [
  {
   "cell_type": "code",
   "execution_count": 2,
   "metadata": {},
   "outputs": [
    {
     "data": {
      "text/html": [
       "<style>ul.unstyled, ul.unstyled ul, ul.unstyled li {  list-style-type: none;  font-size: 20px;  font-weight: 600;}</style><h1>Olympic Games Analysis</h1><img src=\"img/olympics-animation.jpg\"><ul class=\"unstyled\"><li><a href=\"#introduction\">Introduction</a></li><li><a href=\"#requirements\">Requirements</a></li><li><a href=\"#male_analysis\">Male Analysis</a></li><ul><li><a href=\"#age_male\">Age</a></li><li><a href=\"#physique_male\">Physique</a></li><li><a href=\"#winning_male_density_physique\">Winning Density based on physique</a></li></ul><li><a href=\"#female_analysis\">Female Analysis</a></li><ul><li><a href=\"#age_female\">Age</a></li><li><a href=\"#physique_female\">Physique</a></li><li><a href=\"#winning_female_density_physique\">Winning Density based on physique</a></li></ul><li><a href=\"#gender_gap\">Gender Gap</a></li><li><a href=\"#geographic_analysis\">Geographic Analysis</a></li></ul>"
      ],
      "text/plain": [
       "<IPython.core.display.HTML object>"
      ]
     },
     "metadata": {},
     "output_type": "display_data"
    }
   ],
   "source": [
    "from IPython.display import display\n",
    "from vdom.helpers import h1, p, img, div, b, li, ul, h2, h3, h4, h5, a\n",
    "from IPython.display import display, HTML\n",
    "\n",
    "with open (\"custom.css\", \"r\") as myfile:\n",
    "    custom_css = myfile.read().replace('\\n', '')\n",
    "\n",
    "title = '<h1>Olympic Games Analysis</h1>'\n",
    "indexes = ({1: {'name': {'Introduction'}},\n",
    "            2: {'name': {'Requirements'}},\n",
    "            3: {'name': {'Male Analysis'}},\n",
    "            4: {'name': {'Physique', 'Age', 'Winning Density based on physique'}},\n",
    "            5: {'name': {'Female Analysis'}},\n",
    "            6: {'name': {'Physique', 'Age', 'Winning Density based on physique'}},\n",
    "            7: {'name': {'Gender Gap'}},\n",
    "            8: {'name': {'Geographic Analysis'}},\n",
    "            })\n",
    "          \n",
    "links =   ({1: {'link': {'#introduction'}},\n",
    "            2: {'link': {'#requirements'}},\n",
    "            3: {'link': {'#male_analysis'}},\n",
    "            4: {'link': {'#physique_male', '#age_male', '#winning_male_density_physique'}},\n",
    "            5: {'link': {'#female_analysis'}},\n",
    "            6: {'link': {'#physique_female', '#age_female', '#winning_female_density_physique'}},\n",
    "            7: {'link': {'#gender_gap'}},\n",
    "            8: {'link': {'#geographic_analysis'}},\n",
    "            })\n",
    "\n",
    "\n",
    "def listIndex(indexes):\n",
    "    html = custom_css\n",
    "    html += title\n",
    "    html += '<img src=\"img/olympics-animation.jpg\">'\n",
    "    html += '<ul class=\"unstyled\">'\n",
    "    \n",
    "    for x in range(1, 9):\n",
    "        try:\n",
    "        \n",
    "            index_len = len(indexes[x]['name'])\n",
    "            if index_len > 1:\n",
    "                html += '<ul>'\n",
    "                pass\n",
    "            for i, j in zip(indexes[x]['name'], links[x]['link']):\n",
    "                html += '<li><a href=\"' + j + '\">' + i + '</a></li>'\n",
    "            if index_len > 1:\n",
    "                html += '</ul>'\n",
    "                pass\n",
    "        except Exception:\n",
    "            break\n",
    "    html += '</ul>'\n",
    "    \n",
    "    return html\n",
    "\n",
    "display(HTML(listIndex(indexes)))"
   ]
  },
  {
   "cell_type": "code",
   "execution_count": 5,
   "metadata": {
    "collapsed": true
   },
   "outputs": [
    {
     "data": {
      "application/vnd.jupyter.widget-view+json": {
       "model_id": "9ed8a44f3ffb4114bfeb1909536632d6",
       "version_major": 2,
       "version_minor": 0
      },
      "text/plain": [
       "interactive(children=(FloatSlider(value=0.0, description='m', max=2.0, min=-2.0), FloatSlider(value=0.0, descr…"
      ]
     },
     "metadata": {},
     "output_type": "display_data"
    }
   ],
   "source": [
    "%matplotlib inline\n",
    "from ipywidgets import interactive\n",
    "import matplotlib.pyplot as plt\n",
    "import numpy as np\n",
    "\n",
    "def f(m, b):\n",
    "    plt.figure(2)\n",
    "    x = np.linspace(-10, 10, num=1000)\n",
    "    plt.plot(x, m * x + b)\n",
    "    plt.ylim(-5, 5)\n",
    "    plt.show()\n",
    "\n",
    "interactive_plot = interactive(f, m=(-2.0, 2.0), b=(-3, 3, 0.5))\n",
    "output = interactive_plot.children[-1]\n",
    "output.layout.height = '350px'\n",
    "interactive_plot"
   ]
  },
  {
   "cell_type": "code",
   "execution_count": 3,
   "metadata": {},
   "outputs": [
    {
     "data": {
      "application/vnd.jupyter.widget-view+json": {
       "model_id": "52d0e6629ff7465cba56f62898e9f71e",
       "version_major": 2,
       "version_minor": 0
      },
      "text/plain": [
       "interactive(children=(Text(value='Hi there!', description='x'), Output()), _dom_classes=('widget-interact',))"
      ]
     },
     "metadata": {},
     "output_type": "display_data"
    },
    {
     "data": {
      "text/plain": [
       "<function __main__.f(x)>"
      ]
     },
     "execution_count": 3,
     "metadata": {},
     "output_type": "execute_result"
    }
   ],
   "source": []
  },
  {
   "cell_type": "code",
   "execution_count": null,
   "metadata": {},
   "outputs": [],
   "source": []
  },
  {
   "cell_type": "code",
   "execution_count": null,
   "metadata": {},
   "outputs": [],
   "source": []
  }
 ],
 "metadata": {
  "kernelspec": {
   "display_name": "Python 3",
   "language": "python",
   "name": "python3"
  },
  "language_info": {
   "codemirror_mode": {
    "name": "ipython",
    "version": 3
   },
   "file_extension": ".py",
   "mimetype": "text/x-python",
   "name": "python",
   "nbconvert_exporter": "python",
   "pygments_lexer": "ipython3",
   "version": "3.7.0"
  }
 },
 "nbformat": 4,
 "nbformat_minor": 2
}
